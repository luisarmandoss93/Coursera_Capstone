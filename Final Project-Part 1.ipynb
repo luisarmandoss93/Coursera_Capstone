{
 "cells": [
  {
   "cell_type": "markdown",
   "metadata": {},
   "source": [
    "<h1 align=center><font size = 5>Where is the best place for a Nursing Home in Bronx</font></h1>"
   ]
  },
  {
   "cell_type": "markdown",
   "metadata": {},
   "source": [
    "# Introduction/Business Problem \n",
    "The older adult population is aging every day. For that reason, we want to know the best place at Bronx to build a nursing home.\n",
    "To do this, we will use information from the neighborhoods.\n",
    "We need to find the best neighborhood for build the nursing home. We need one with the most amount of pharmacies and doctor´s offices, because the elderly need a quick attentions if the get sick"
   ]
  },
  {
   "cell_type": "code",
   "execution_count": 1,
   "metadata": {},
   "outputs": [],
   "source": [
    "import numpy as np # library to handle data in a vectorized manner\n",
    "\n",
    "import pandas as pd # library for data analsysis\n",
    "pd.set_option('display.max_columns', None)\n",
    "pd.set_option('display.max_rows', None)\n",
    "\n",
    "import json # library to handle JSON files\n",
    "\n",
    "#!conda install -c conda-forge geopy --yes # uncomment this line if you haven't completed the Foursquare API lab\n",
    "from geopy.geocoders import Nominatim # convert an address into latitude and longitude values\n",
    "\n",
    "import requests # library to handle requests\n",
    "from pandas.io.json import json_normalize # tranform JSON file into a pandas dataframe\n",
    "\n",
    "# Matplotlib and associated plotting modules\n",
    "import matplotlib.cm as cm\n",
    "import matplotlib.colors as colors\n",
    "\n",
    "# import k-means from clustering stage\n",
    "from sklearn.cluster import KMeans\n",
    "\n",
    "#!conda install -c conda-forge folium=0.5.0 --yes # uncomment this line if you haven't completed the Foursquare API lab\n",
    "import folium # map rendering library"
   ]
  },
  {
   "cell_type": "markdown",
   "metadata": {},
   "source": [
    "# Data\n",
    "Neighborhood has a total of 5 boroughs and 306 neighborhoods. In order to segement the neighborhoods and explore them, we will essentially need a dataset that contains the 5 boroughs and the neighborhoods that exist in each borough as well as the the latitude and logitude coordinates of each neighborhood.\n",
    "This dataset exists for free on the web: https://geo.nyu.edu/catalog/nyu_2451_34572\n",
    "We aren going to use FourSquare API to get the pharmacies and Doctor´s Office of each neigborhood.\n"
   ]
  },
  {
   "cell_type": "code",
   "execution_count": 8,
   "metadata": {},
   "outputs": [],
   "source": [
    "!wget -q -O 'newyork_data.json' https://cocl.us/new_york_dataset\n",
    "with open('newyork_data.json') as json_data:\n",
    "    newyork_data = json.load(json_data)"
   ]
  },
  {
   "cell_type": "code",
   "execution_count": 10,
   "metadata": {},
   "outputs": [
    {
     "data": {
      "text/plain": [
       "{'type': 'Feature',\n",
       " 'id': 'nyu_2451_34572.1',\n",
       " 'geometry': {'type': 'Point',\n",
       "  'coordinates': [-73.84720052054902, 40.89470517661]},\n",
       " 'geometry_name': 'geom',\n",
       " 'properties': {'name': 'Wakefield',\n",
       "  'stacked': 1,\n",
       "  'annoline1': 'Wakefield',\n",
       "  'annoline2': None,\n",
       "  'annoline3': None,\n",
       "  'annoangle': 0.0,\n",
       "  'borough': 'Bronx',\n",
       "  'bbox': [-73.84720052054902,\n",
       "   40.89470517661,\n",
       "   -73.84720052054902,\n",
       "   40.89470517661]}}"
      ]
     },
     "execution_count": 10,
     "metadata": {},
     "output_type": "execute_result"
    }
   ],
   "source": [
    "neighborhoods_data = newyork_data['features']\n",
    "neighborhoods_data[0]"
   ]
  },
  {
   "cell_type": "code",
   "execution_count": 13,
   "metadata": {},
   "outputs": [],
   "source": [
    "column_names = ['Borough', 'Neighborhood', 'Latitude', 'Longitude'] \n",
    "neighborhoods = pd.DataFrame(columns=column_names)\n",
    "for data in neighborhoods_data:\n",
    "    borough = neighborhood_name = data['properties']['borough'] \n",
    "    neighborhood_name = data['properties']['name']\n",
    "        \n",
    "    neighborhood_latlon = data['geometry']['coordinates']\n",
    "    neighborhood_lat = neighborhood_latlon[1]\n",
    "    neighborhood_lon = neighborhood_latlon[0]\n",
    "    \n",
    "    neighborhoods = neighborhoods.append({'Borough': borough,\n",
    "                                          'Neighborhood': neighborhood_name,\n",
    "                                          'Latitude': neighborhood_lat,\n",
    "                                          'Longitude': neighborhood_lon}, ignore_index=True)"
   ]
  },
  {
   "cell_type": "code",
   "execution_count": 14,
   "metadata": {},
   "outputs": [
    {
     "data": {
      "text/html": [
       "<div>\n",
       "<style scoped>\n",
       "    .dataframe tbody tr th:only-of-type {\n",
       "        vertical-align: middle;\n",
       "    }\n",
       "\n",
       "    .dataframe tbody tr th {\n",
       "        vertical-align: top;\n",
       "    }\n",
       "\n",
       "    .dataframe thead th {\n",
       "        text-align: right;\n",
       "    }\n",
       "</style>\n",
       "<table border=\"1\" class=\"dataframe\">\n",
       "  <thead>\n",
       "    <tr style=\"text-align: right;\">\n",
       "      <th></th>\n",
       "      <th>Borough</th>\n",
       "      <th>Neighborhood</th>\n",
       "      <th>Latitude</th>\n",
       "      <th>Longitude</th>\n",
       "    </tr>\n",
       "  </thead>\n",
       "  <tbody>\n",
       "    <tr>\n",
       "      <th>0</th>\n",
       "      <td>Bronx</td>\n",
       "      <td>Wakefield</td>\n",
       "      <td>40.894705</td>\n",
       "      <td>-73.847201</td>\n",
       "    </tr>\n",
       "    <tr>\n",
       "      <th>1</th>\n",
       "      <td>Bronx</td>\n",
       "      <td>Co-op City</td>\n",
       "      <td>40.874294</td>\n",
       "      <td>-73.829939</td>\n",
       "    </tr>\n",
       "    <tr>\n",
       "      <th>2</th>\n",
       "      <td>Bronx</td>\n",
       "      <td>Eastchester</td>\n",
       "      <td>40.887556</td>\n",
       "      <td>-73.827806</td>\n",
       "    </tr>\n",
       "    <tr>\n",
       "      <th>3</th>\n",
       "      <td>Bronx</td>\n",
       "      <td>Fieldston</td>\n",
       "      <td>40.895437</td>\n",
       "      <td>-73.905643</td>\n",
       "    </tr>\n",
       "    <tr>\n",
       "      <th>4</th>\n",
       "      <td>Bronx</td>\n",
       "      <td>Riverdale</td>\n",
       "      <td>40.890834</td>\n",
       "      <td>-73.912585</td>\n",
       "    </tr>\n",
       "  </tbody>\n",
       "</table>\n",
       "</div>"
      ],
      "text/plain": [
       "  Borough Neighborhood   Latitude  Longitude\n",
       "0   Bronx    Wakefield  40.894705 -73.847201\n",
       "1   Bronx   Co-op City  40.874294 -73.829939\n",
       "2   Bronx  Eastchester  40.887556 -73.827806\n",
       "3   Bronx    Fieldston  40.895437 -73.905643\n",
       "4   Bronx    Riverdale  40.890834 -73.912585"
      ]
     },
     "execution_count": 14,
     "metadata": {},
     "output_type": "execute_result"
    }
   ],
   "source": [
    "neighborhoods.head()"
   ]
  },
  {
   "cell_type": "code",
   "execution_count": 17,
   "metadata": {},
   "outputs": [
    {
     "data": {
      "text/html": [
       "<div>\n",
       "<style scoped>\n",
       "    .dataframe tbody tr th:only-of-type {\n",
       "        vertical-align: middle;\n",
       "    }\n",
       "\n",
       "    .dataframe tbody tr th {\n",
       "        vertical-align: top;\n",
       "    }\n",
       "\n",
       "    .dataframe thead th {\n",
       "        text-align: right;\n",
       "    }\n",
       "</style>\n",
       "<table border=\"1\" class=\"dataframe\">\n",
       "  <thead>\n",
       "    <tr style=\"text-align: right;\">\n",
       "      <th></th>\n",
       "      <th>Borough</th>\n",
       "      <th>Neighborhood</th>\n",
       "      <th>Latitude</th>\n",
       "      <th>Longitude</th>\n",
       "    </tr>\n",
       "  </thead>\n",
       "  <tbody>\n",
       "    <tr>\n",
       "      <th>0</th>\n",
       "      <td>Bronx</td>\n",
       "      <td>Wakefield</td>\n",
       "      <td>40.894705</td>\n",
       "      <td>-73.847201</td>\n",
       "    </tr>\n",
       "    <tr>\n",
       "      <th>1</th>\n",
       "      <td>Bronx</td>\n",
       "      <td>Co-op City</td>\n",
       "      <td>40.874294</td>\n",
       "      <td>-73.829939</td>\n",
       "    </tr>\n",
       "    <tr>\n",
       "      <th>2</th>\n",
       "      <td>Bronx</td>\n",
       "      <td>Eastchester</td>\n",
       "      <td>40.887556</td>\n",
       "      <td>-73.827806</td>\n",
       "    </tr>\n",
       "    <tr>\n",
       "      <th>3</th>\n",
       "      <td>Bronx</td>\n",
       "      <td>Fieldston</td>\n",
       "      <td>40.895437</td>\n",
       "      <td>-73.905643</td>\n",
       "    </tr>\n",
       "    <tr>\n",
       "      <th>4</th>\n",
       "      <td>Bronx</td>\n",
       "      <td>Riverdale</td>\n",
       "      <td>40.890834</td>\n",
       "      <td>-73.912585</td>\n",
       "    </tr>\n",
       "  </tbody>\n",
       "</table>\n",
       "</div>"
      ],
      "text/plain": [
       "  Borough Neighborhood   Latitude  Longitude\n",
       "0   Bronx    Wakefield  40.894705 -73.847201\n",
       "1   Bronx   Co-op City  40.874294 -73.829939\n",
       "2   Bronx  Eastchester  40.887556 -73.827806\n",
       "3   Bronx    Fieldston  40.895437 -73.905643\n",
       "4   Bronx    Riverdale  40.890834 -73.912585"
      ]
     },
     "execution_count": 17,
     "metadata": {},
     "output_type": "execute_result"
    }
   ],
   "source": [
    "Bronx_data = neighborhoods[neighborhoods['Borough'] == 'Bronx'].reset_index(drop=True)\n",
    "Bronx_data.head()"
   ]
  },
  {
   "cell_type": "code",
   "execution_count": 19,
   "metadata": {},
   "outputs": [
    {
     "name": "stdout",
     "output_type": "stream",
     "text": [
      "The geograpical coordinate of Manhattan are 40.8466508, -73.8785937.\n"
     ]
    }
   ],
   "source": [
    "address = 'Bronx, NY'\n",
    "\n",
    "geolocator = Nominatim(user_agent=\"ny_explorer\")\n",
    "location = geolocator.geocode(address)\n",
    "latitude = location.latitude\n",
    "longitude = location.longitude\n",
    "print('The geograpical coordinate of Bronx are {}, {}.'.format(latitude, longitude))"
   ]
  },
  {
   "cell_type": "code",
   "execution_count": 21,
   "metadata": {},
   "outputs": [
    {
     "data": {
      "text/html": [
       "<div style=\"width:100%;\"><div style=\"position:relative;width:100%;height:0;padding-bottom:60%;\"><iframe src=\"about:blank\" style=\"position:absolute;width:100%;height:100%;left:0;top:0;border:none !important;\" data-html=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 onload=\"this.contentDocument.open();this.contentDocument.write(atob(this.getAttribute('data-html')));this.contentDocument.close();\" allowfullscreen webkitallowfullscreen mozallowfullscreen></iframe></div></div>"
      ],
      "text/plain": [
       "<folium.folium.Map at 0x1a1b175f10>"
      ]
     },
     "execution_count": 21,
     "metadata": {},
     "output_type": "execute_result"
    }
   ],
   "source": [
    "# create map of Manhattan using latitude and longitude values\n",
    "map_Bronx = folium.Map(location=[latitude, longitude], zoom_start=11)\n",
    "\n",
    "# add markers to map\n",
    "for lat, lng, label in zip(Bronx_data['Latitude'], Bronx_data['Longitude'], Bronx_data['Neighborhood']):\n",
    "    label = folium.Popup(label, parse_html=True)\n",
    "    folium.CircleMarker(\n",
    "        [lat, lng],\n",
    "        radius=5,\n",
    "        popup=label,\n",
    "        color='blue',\n",
    "        fill=True,\n",
    "        fill_color='#3186cc',\n",
    "        fill_opacity=0.7,\n",
    "        parse_html=False).add_to(map_Bronx)  \n",
    "    \n",
    "map_Bronx"
   ]
  },
  {
   "cell_type": "code",
   "execution_count": 22,
   "metadata": {},
   "outputs": [
    {
     "name": "stdout",
     "output_type": "stream",
     "text": [
      "Latitude and longitude values of Wakefield are 40.89470517661, -73.84720052054902.\n"
     ]
    }
   ],
   "source": [
    "CLIENT_ID = 'N2TW2IRFWSJXZA4JVWDTSKMAXQIIK0XR4OYWDAJXADASCN4M' \n",
    "CLIENT_SECRET = 'QETJ3OBYBJZZ2X512DYPMAEE0NOXUGGUPJI5SJNUOYL54BMJ' \n",
    "VERSION = '20180605'\n",
    "\n",
    "Bronx_data.loc[0, 'Neighborhood']\n",
    "neighborhood_latitude = Bronx_data.loc[0, 'Latitude'] # neighborhood latitude value\n",
    "neighborhood_longitude = Bronx_data.loc[0, 'Longitude'] # neighborhood longitude value\n",
    "\n",
    "neighborhood_name = Bronx_data.loc[0, 'Neighborhood'] # neighborhood name\n",
    "\n",
    "print('Latitude and longitude values of {} are {}, {}.'.format(neighborhood_name, \n",
    "                                                               neighborhood_latitude, \n",
    "                                                               neighborhood_longitude))"
   ]
  },
  {
   "cell_type": "markdown",
   "metadata": {},
   "source": [
    "#### Let's explore the neighborhoods in our dataframe.\n",
    "We will get the top 100 venues that are in each neighborhoods within a radius of 500 meters.\n"
   ]
  },
  {
   "cell_type": "code",
   "execution_count": 56,
   "metadata": {},
   "outputs": [
    {
     "data": {
      "text/plain": [
       "'https://api.foursquare.com/v2/venues/explore?&client_id=N2TW2IRFWSJXZA4JVWDTSKMAXQIIK0XR4OYWDAJXADASCN4M&client_secret=QETJ3OBYBJZZ2X512DYPMAEE0NOXUGGUPJI5SJNUOYL54BMJ&v=20180605&ll=40.89470517661,-73.84720052054902&radius=500&limit=100'"
      ]
     },
     "execution_count": 56,
     "metadata": {},
     "output_type": "execute_result"
    }
   ],
   "source": [
    "LIMIT = 100\n",
    "radius = 500\n",
    "url = 'https://api.foursquare.com/v2/venues/explore?&client_id={}&client_secret={}&v={}&ll={},{}&radius={}&limit={}'.format(\n",
    "    CLIENT_ID, \n",
    "    CLIENT_SECRET, \n",
    "    VERSION, \n",
    "    neighborhood_latitude, \n",
    "    neighborhood_longitude, \n",
    "    radius, \n",
    "    LIMIT)\n",
    "url "
   ]
  },
  {
   "cell_type": "code",
   "execution_count": 57,
   "metadata": {},
   "outputs": [],
   "source": [
    "results = requests.get(url).json()\n",
    "results\n",
    "def get_category_type(row):\n",
    "    try:\n",
    "        categories_list = row['categories']\n",
    "    except:\n",
    "        categories_list = row['venue.categories']\n",
    "        \n",
    "    if len(categories_list) == 0:\n",
    "        return None\n",
    "    else:\n",
    "        return categories_list[0]['name']"
   ]
  },
  {
   "cell_type": "code",
   "execution_count": 58,
   "metadata": {},
   "outputs": [
    {
     "name": "stderr",
     "output_type": "stream",
     "text": [
      "/opt/anaconda3/lib/python3.7/site-packages/ipykernel_launcher.py:3: FutureWarning: pandas.io.json.json_normalize is deprecated, use pandas.json_normalize instead\n",
      "  This is separate from the ipykernel package so we can avoid doing imports until\n"
     ]
    },
    {
     "data": {
      "text/html": [
       "<div>\n",
       "<style scoped>\n",
       "    .dataframe tbody tr th:only-of-type {\n",
       "        vertical-align: middle;\n",
       "    }\n",
       "\n",
       "    .dataframe tbody tr th {\n",
       "        vertical-align: top;\n",
       "    }\n",
       "\n",
       "    .dataframe thead th {\n",
       "        text-align: right;\n",
       "    }\n",
       "</style>\n",
       "<table border=\"1\" class=\"dataframe\">\n",
       "  <thead>\n",
       "    <tr style=\"text-align: right;\">\n",
       "      <th></th>\n",
       "      <th>name</th>\n",
       "      <th>categories</th>\n",
       "      <th>lat</th>\n",
       "      <th>lng</th>\n",
       "    </tr>\n",
       "  </thead>\n",
       "  <tbody>\n",
       "    <tr>\n",
       "      <th>0</th>\n",
       "      <td>Lollipops Gelato</td>\n",
       "      <td>Dessert Shop</td>\n",
       "      <td>40.894123</td>\n",
       "      <td>-73.845892</td>\n",
       "    </tr>\n",
       "    <tr>\n",
       "      <th>1</th>\n",
       "      <td>Carvel Ice Cream</td>\n",
       "      <td>Ice Cream Shop</td>\n",
       "      <td>40.890487</td>\n",
       "      <td>-73.848568</td>\n",
       "    </tr>\n",
       "    <tr>\n",
       "      <th>2</th>\n",
       "      <td>Walgreens</td>\n",
       "      <td>Pharmacy</td>\n",
       "      <td>40.896528</td>\n",
       "      <td>-73.844700</td>\n",
       "    </tr>\n",
       "    <tr>\n",
       "      <th>3</th>\n",
       "      <td>Rite Aid</td>\n",
       "      <td>Pharmacy</td>\n",
       "      <td>40.896649</td>\n",
       "      <td>-73.844846</td>\n",
       "    </tr>\n",
       "    <tr>\n",
       "      <th>4</th>\n",
       "      <td>Dunkin'</td>\n",
       "      <td>Donut Shop</td>\n",
       "      <td>40.890459</td>\n",
       "      <td>-73.849089</td>\n",
       "    </tr>\n",
       "  </tbody>\n",
       "</table>\n",
       "</div>"
      ],
      "text/plain": [
       "               name      categories        lat        lng\n",
       "0  Lollipops Gelato    Dessert Shop  40.894123 -73.845892\n",
       "1  Carvel Ice Cream  Ice Cream Shop  40.890487 -73.848568\n",
       "2         Walgreens        Pharmacy  40.896528 -73.844700\n",
       "3          Rite Aid        Pharmacy  40.896649 -73.844846\n",
       "4           Dunkin'      Donut Shop  40.890459 -73.849089"
      ]
     },
     "execution_count": 58,
     "metadata": {},
     "output_type": "execute_result"
    }
   ],
   "source": [
    "venues = results['response']['groups'][0]['items']\n",
    "    \n",
    "nearby_venues = json_normalize(venues) # flatten JSON\n",
    "\n",
    "# filter columns\n",
    "filtered_columns = ['venue.name', 'venue.categories', 'venue.location.lat', 'venue.location.lng']\n",
    "nearby_venues =nearby_venues.loc[:, filtered_columns]\n",
    "\n",
    "# filter the category for each row\n",
    "nearby_venues['venue.categories'] = nearby_venues.apply(get_category_type, axis=1)\n",
    "\n",
    "# clean columns\n",
    "nearby_venues.columns = [col.split(\".\")[-1] for col in nearby_venues.columns]\n",
    "\n",
    "nearby_venues.head()"
   ]
  },
  {
   "cell_type": "code",
   "execution_count": null,
   "metadata": {},
   "outputs": [],
   "source": []
  },
  {
   "cell_type": "code",
   "execution_count": null,
   "metadata": {},
   "outputs": [],
   "source": []
  }
 ],
 "metadata": {
  "kernelspec": {
   "display_name": "Python 3",
   "language": "python",
   "name": "python3"
  },
  "language_info": {
   "codemirror_mode": {
    "name": "ipython",
    "version": 3
   },
   "file_extension": ".py",
   "mimetype": "text/x-python",
   "name": "python",
   "nbconvert_exporter": "python",
   "pygments_lexer": "ipython3",
   "version": "3.7.6"
  }
 },
 "nbformat": 4,
 "nbformat_minor": 4
}
